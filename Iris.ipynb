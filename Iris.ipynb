{
 "cells": [
  {
   "cell_type": "code",
   "execution_count": 5,
   "id": "f9eb3c56-8aa4-47b9-9fb3-de84958f94f8",
   "metadata": {},
   "outputs": [],
   "source": [
    "#Import the pandas\n",
    "import pandas as pd"
   ]
  },
  {
   "cell_type": "code",
   "execution_count": 7,
   "id": "f0feabac-34e8-459c-809d-e01a57a83afb",
   "metadata": {},
   "outputs": [
    {
     "ename": "NameError",
     "evalue": "name 'true' is not defined",
     "output_type": "error",
     "traceback": [
      "\u001b[1;31m---------------------------------------------------------------------------\u001b[0m",
      "\u001b[1;31mNameError\u001b[0m                                 Traceback (most recent call last)",
      "Cell \u001b[1;32mIn[7], line 2\u001b[0m\n\u001b[0;32m      1\u001b[0m {\n\u001b[1;32m----> 2\u001b[0m   \u001b[38;5;124m\"\u001b[39m\u001b[38;5;124mClear Cell Outputs\u001b[39m\u001b[38;5;124m\"\u001b[39m: true\n\u001b[0;32m      3\u001b[0m }\n",
      "\u001b[1;31mNameError\u001b[0m: name 'true' is not defined"
     ]
    }
   ],
  {
   "cell_type": "code",
   "execution_count": 1,
   "id": "ec58baca-5f78-4762-a6da-62d714d16b2b",
   "metadata": {},
   "outputs": [],
   "source": [
    "#Import the dataset"
   ]
  },
  {
   "cell_type": "code",
   "execution_count": 3,
   "id": "20dcb875-8da7-4758-b2e0-70e1ba9105bf",
   "metadata": {},
   "outputs": [],
   "source": [
    "#exibi o head"
   ]
  },
  {
   "cell_type": "code",
   "execution_count": null,
   "id": "1a446181-f984-440c-9f35-73e808975235",
   "metadata": {},
   "outputs": [],
   "source": [
    "#exibi o tall"
   ]
  }
 ],
 "metadata": {
  "kernelspec": {
   "display_name": "Python 3 (ipykernel)",
   "language": "python",
   "name": "python3"
  },
  "language_info": {
   "codemirror_mode": {
    "name": "ipython",
    "version": 3
   },
   "file_extension": ".py",
   "mimetype": "text/x-python",
   "name": "python",
   "nbconvert_exporter": "python",
   "pygments_lexer": "ipython3",
   "version": "3.12.4"
  }
 },
 "nbformat": 4,
 "nbformat_minor": 5
}
