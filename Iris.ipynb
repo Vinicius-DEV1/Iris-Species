{
  "cells": [
    {
      "cell_type": "code",
      "execution_count": null,
      "id": "1a08d675-75bb-4147-a82d-83660166138b",
      "metadata": {
        "id": "1a08d675-75bb-4147-a82d-83660166138b"
      },
      "outputs": [],
      "source": [
        "#imports\n",
        "import pandas as pd"
      ]
    },
    {
      "cell_type": "code",
      "execution_count": null,
      "id": "de576a78-d33c-479e-be2e-45e55a8be6bc",
      "metadata": {
        "id": "de576a78-d33c-479e-be2e-45e55a8be6bc"
      },
      "outputs": [],
      "source": [
        "#import csv\n"
      ]
    }
  ],
  "metadata": {
    "kernelspec": {
      "display_name": "Python 3 (ipykernel)",
      "language": "python",
      "name": "python3"
    },
    "language_info": {
      "codemirror_mode": {
        "name": "ipython",
        "version": 3
      },
      "file_extension": ".py",
      "mimetype": "text/x-python",
      "name": "python",
      "nbconvert_exporter": "python",
      "pygments_lexer": "ipython3",
      "version": "3.12.4"
    },
    "colab": {
      "provenance": []
    }
  },
  "nbformat": 4,
  "nbformat_minor": 5
}